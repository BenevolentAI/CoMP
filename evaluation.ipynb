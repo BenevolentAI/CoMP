{
 "cells": [
  {
   "cell_type": "markdown",
   "id": "bf4670ab-2bc9-4dbb-8892-05a7c4cc40b4",
   "metadata": {},
   "source": [
    "# Experiments on Tumour / Cell Line and the UCI Income datasets\n",
    "\n",
    "In this notebook, we load the inferred pretrained models "
   ]
  },
  {
   "cell_type": "code",
   "execution_count": null,
   "id": "18789399-503f-4793-8489-b142c113e947",
   "metadata": {},
   "outputs": [],
   "source": [
    "%reload_ext autoreload\n",
    "%autoreload 2\n",
    "\n",
    "from pathlib import Path\n",
    "import matplotlib.pyplot as plt\n",
    "import numpy as np\n",
    "import pandas as pd\n",
    "from sklearn.ensemble import RandomForestClassifier\n",
    "from sklearn.metrics import f1_score\n",
    "import seaborn as sns\n",
    "import torch\n",
    "from umap import UMAP\n",
    "from tqdm import tqdm\n",
    "import scipy\n",
    "from scipy.stats import sem\n",
    "\n",
    "from comp.metrics import knn_metric, silhouette_coeff, kbet\n",
    "\n",
    "pd.set_option('display.max_rows', 500)\n",
    "pd.set_option('display.max_columns', 500)\n",
    "\n",
    "import scipy"
   ]
  },
  {
   "cell_type": "markdown",
   "id": "a6bd593e-30cc-4c20-9413-eeb9f8bae656",
   "metadata": {},
   "source": [
    "# 1. Download files"
   ]
  },
  {
   "cell_type": "code",
   "execution_count": null,
   "id": "680a8430-baea-4857-b55b-85af34a31303",
   "metadata": {},
   "outputs": [],
   "source": [
    "models = [\"comp\", \"cvae\", \"trvae\", \"vae\", \"vfae\"]\n",
    "metrics = [\"silhouette\", \"mean-silhouette\", \"kbet\", \"mean-kbet\"]"
   ]
  },
  {
   "cell_type": "markdown",
   "id": "9d000f11-1bf9-40dc-9fa5-060a011443db",
   "metadata": {},
   "source": [
    "### Tumour / Cell Line files"
   ]
  },
  {
   "cell_type": "code",
   "execution_count": null,
   "id": "d226296c-6bf0-4c7b-a52a-0a7990067983",
   "metadata": {},
   "outputs": [],
   "source": [
    "tumour_cl_z = {}\n",
    "for model in models:\n",
    "    umap_file = list(Path(f\"celligner/{model}/run_01/umaps\").rglob(\"*.parquet\"))  # To change\n",
    "    if len(umap_file) > 0:\n",
    "        metadata_file = Path(f\"celligner/metadata.tsv\")\n",
    "        umap = pd.read_parquet(umap_file[0])\n",
    "        metadata = pd.read_csv(metadata_file, index_col=0, sep=\"\\t\")\n",
    "        tumour_cl_z[model] = pd.concat([umap, metadata], axis=1)"
   ]
  },
  {
   "cell_type": "markdown",
   "id": "cb9c90c1-3f62-48b1-8936-a28864fedf05",
   "metadata": {},
   "source": [
    "### UCI files"
   ]
  },
  {
   "cell_type": "code",
   "execution_count": null,
   "id": "000c2dab-7209-4b1d-8058-be2c79166f9d",
   "metadata": {},
   "outputs": [],
   "source": [
    "uci_z = {}\n",
    "for model in models:\n",
    "    umap_file = list(Path(f\"uci/{model}/run_01/umaps\").rglob(\"*.parquet\")) # To change\n",
    "    if len(umap_file) > 0:\n",
    "        metadata_file = Path(f\"uci/metadata.tsv\")\n",
    "        umap = pd.read_parquet(umap_file[0])\n",
    "        metadata = pd.read_csv(metadata_file, index_col=0, sep=\"\\t\")\n",
    "        uci_z[model] = pd.concat([umap, metadata], axis=1)"
   ]
  },
  {
   "cell_type": "markdown",
   "id": "60d52c89-ebb3-4522-a36f-0e973cf66490",
   "metadata": {},
   "source": [
    "# 2. Compute metrics"
   ]
  },
  {
   "cell_type": "markdown",
   "id": "34cfe4ef-85e9-4520-b00b-edf4738da071",
   "metadata": {},
   "source": [
    "## 2.1 Tumour / Cell Line metrics"
   ]
  },
  {
   "cell_type": "code",
   "execution_count": null,
   "id": "b4f20434-9717-47eb-9caf-18c460d541b7",
   "metadata": {},
   "outputs": [],
   "source": [
    "tumour_cl_metrics = pd.DataFrame(columns=metrics, index=models)"
   ]
  },
  {
   "cell_type": "code",
   "execution_count": null,
   "id": "c22b0be1-8a40-4dff-80a5-85791bf09746",
   "metadata": {},
   "outputs": [],
   "source": [
    "def select_diseases(df, threshold=400):\n",
    "    df2 = df.groupby(\"disease\").agg({\"subtype\": \"count\", \"type\": 'nunique'})\n",
    "    df3 = df2[(df2.subtype > 400) & (df2.type == 2)]\n",
    "    return list(df3.index)"
   ]
  },
  {
   "cell_type": "code",
   "execution_count": null,
   "id": "d8149939-2c69-4175-956b-bd442356a242",
   "metadata": {},
   "outputs": [],
   "source": [
    "selected_diseases = select_diseases(tumour_cl_z[\"comp\"], threshold=400)  # 'comp' selection here is arbitrary; can be any other model.\n",
    "print(f\"No. of selected diseases: {len(selected_diseases)}\")"
   ]
  },
  {
   "cell_type": "markdown",
   "id": "c46e952e-3927-424b-8088-bdbd1b99b8ea",
   "metadata": {},
   "source": [
    "#### kbet"
   ]
  },
  {
   "cell_type": "code",
   "execution_count": null,
   "id": "da108ec5-2e95-49c7-910d-c60b307c3785",
   "metadata": {},
   "outputs": [],
   "source": [
    "n_neighbours = 100\n",
    "for model, data in tqdm(tumour_cl_z.items()):\n",
    "    num_cl = sum((data.type == \"CL\").values)\n",
    "    num_tumor = sum((data.type != \"CL\").values)\n",
    "    freq_tumor = n_neighbours * num_tumor / (num_cl + num_tumor)\n",
    "    freq_cl = n_neighbours - freq_tumor\n",
    "\n",
    "    _, counts = knn_metric(features=data.iloc[:, :-3].values,\n",
    "                           queries=[True] * data.shape[0], \n",
    "                           labels=data.disease.to_numpy(),\n",
    "                           class_partition=(data.type == \"CL\").values,\n",
    "                           n_neighbours=n_neighbours,\n",
    "                           return_counts=True,\n",
    "                           )\n",
    "    expected_freq = np.where((data.type == \"CL\").values, freq_tumor, freq_cl)\n",
    "    tumour_cl_metrics.loc[model, \"kbet\"] = kbet(counts[:, 1], expected_freq=expected_freq, n_neighbours=n_neighbours, significance=0.01)"
   ]
  },
  {
   "cell_type": "markdown",
   "id": "190467ba-4bda-4374-a6dc-898e91c67f8e",
   "metadata": {},
   "source": [
    "#### mean-kbet"
   ]
  },
  {
   "cell_type": "code",
   "execution_count": null,
   "id": "b314331c-ffd9-4391-8f50-4ec8204f8477",
   "metadata": {},
   "outputs": [],
   "source": [
    "n_neighbours = 100\n",
    "kbet_all = []\n",
    "for model, data_all in tqdm(tumour_cl_z.items()):\n",
    "    metric_disease = []\n",
    "    for disease in selected_diseases:\n",
    "        data = data_all[data_all.disease == disease]\n",
    "        num_cl = sum((data.type == \"CL\").values)\n",
    "        num_tumor = sum((data.type != \"CL\").values)\n",
    "        freq_tumor = n_neighbours * num_tumor / (num_cl + num_tumor)\n",
    "        freq_cl = n_neighbours - freq_tumor\n",
    "\n",
    "        _, counts = knn_metric(features=data.iloc[:, :-3].values,\n",
    "                               queries=[True] * data.shape[0], \n",
    "                               labels=data.disease.to_numpy(),\n",
    "                               class_partition=(data.type == \"CL\").values,\n",
    "                               n_neighbours=n_neighbours,\n",
    "                               return_counts=True,\n",
    "                               )\n",
    "        expected_freq = np.where((data.type == \"CL\").values, freq_tumor, freq_cl)\n",
    "        metric_disease.append(kbet(counts[:, 1], expected_freq=expected_freq, n_neighbours=n_neighbours, significance=0.01))\n",
    "    tumour_cl_metrics.loc[model, \"mean-kbet\"] = np.mean(metric_disease)"
   ]
  },
  {
   "cell_type": "markdown",
   "id": "08ed8b9f-4fa4-40d2-bb20-3018f3fbd43a",
   "metadata": {},
   "source": [
    "#### Silhouette"
   ]
  },
  {
   "cell_type": "code",
   "execution_count": null,
   "id": "71a41009-439a-4545-a4ca-a5e95ed1421f",
   "metadata": {},
   "outputs": [],
   "source": [
    "for model, data in tqdm(tumour_cl_z.items()):\n",
    "    metric, _ = silhouette_coeff(features=data.iloc[:, :-3].values,\n",
    "                                              queries=(data.type == \"CL\").values, \n",
    "                                              labels=data.disease.to_numpy(),\n",
    "                                              class_partition=(data.type == \"CL\").values,\n",
    "                                              n_neighbours=100)\n",
    "    tumour_cl_metrics.loc[model, \"silhouette\"] = np.mean(metric)"
   ]
  },
  {
   "cell_type": "markdown",
   "id": "089b7c4f-f6e0-47ea-9cf2-25f89d5103f4",
   "metadata": {},
   "source": [
    "#### Mean Silhouette"
   ]
  },
  {
   "cell_type": "code",
   "execution_count": null,
   "id": "d9b197c9-3c53-46cc-9454-4e61ad51c3fd",
   "metadata": {},
   "outputs": [],
   "source": [
    "for model, data in tqdm(tumour_cl_z.items()):\n",
    "    metric_disease = []\n",
    "    for disease in selected_diseases:\n",
    "        metric, _ = silhouette_coeff(features=data.iloc[:, :-3].values,\n",
    "                                                  queries=(data.type == \"CL\").values, \n",
    "                                                  labels=data.disease.to_numpy(),\n",
    "                                                  class_partition=(data.type == \"CL\").values,\n",
    "                                                  n_neighbours=100)\n",
    "        metric_disease.append(np.mean(metric))\n",
    "    tumour_cl_metrics.loc[model, \"mean-silhouette\"] = np.mean(metric)"
   ]
  },
  {
   "cell_type": "code",
   "execution_count": null,
   "id": "5ddf9969-cd53-4dac-bf49-b5f4b27e6649",
   "metadata": {},
   "outputs": [],
   "source": [
    "tumour_cl_metrics"
   ]
  },
  {
   "cell_type": "markdown",
   "id": "f6ff1b8b-e7d5-4a1e-be01-2e859eaf4474",
   "metadata": {},
   "source": [
    "## 2.2 UCI Income Data"
   ]
  },
  {
   "cell_type": "code",
   "execution_count": null,
   "id": "e6045e2a-9d3d-427d-8b43-957fa04fe194",
   "metadata": {},
   "outputs": [],
   "source": [
    "uci_metrics = pd.DataFrame(columns=[\"kbet\", \"silhouette\"], index=models)"
   ]
  },
  {
   "cell_type": "markdown",
   "id": "4c0ac7fb-3c48-44f9-a16e-28f4e568a105",
   "metadata": {},
   "source": [
    "#### kbet"
   ]
  },
  {
   "cell_type": "code",
   "execution_count": null,
   "id": "ab42cf3a-ba3c-438b-a93e-32fe8ef3b40b",
   "metadata": {},
   "outputs": [],
   "source": [
    "n_neighbours = 100\n",
    "for model, data in tqdm(uci_z.items()):\n",
    "    num_male = sum((data.type == \"Male\").values)\n",
    "    num_female = sum((data.type != \"Male\").values)\n",
    "    freq_female = n_neighbours * num_female / (num_male + num_female)\n",
    "    freq_male = n_neighbours - freq_female\n",
    "\n",
    "    _, counts = knn_metric(features=data.iloc[:, :-2].values,\n",
    "                           queries=[True] * data.shape[0], # (data.type == \"Male\").values\n",
    "                           labels=data.income.to_numpy(),\n",
    "                           class_partition=(data.type == \"Male\").values,\n",
    "                           n_neighbours=n_neighbours,\n",
    "                           return_counts=True,\n",
    "                           )\n",
    "    expected_freq = np.where((data.type == \"Male\").values, freq_female, freq_male)\n",
    "    uci_metrics.loc[model, \"kbet\"] = kbet(counts[:, 1], expected_freq=expected_freq, n_neighbours=n_neighbours, significance=0.01)"
   ]
  },
  {
   "cell_type": "markdown",
   "id": "f876d2a0-e55c-48d5-9ca7-eea75fbada00",
   "metadata": {},
   "source": [
    "#### Silhouette"
   ]
  },
  {
   "cell_type": "code",
   "execution_count": null,
   "id": "8c0482eb-3201-44d1-a6c6-f695064c7498",
   "metadata": {},
   "outputs": [],
   "source": [
    "for model, data in tqdm(uci_z.items()):\n",
    "    metric, _ = silhouette_coeff(features=data.iloc[:, :-2].values,\n",
    "                                  queries=(data.type == \"Male\").values, \n",
    "                                  labels=data.income.to_numpy(),\n",
    "                                  class_partition=(data.type == \"Male\").values,\n",
    "                                  n_neighbours=100)\n",
    "    uci_metrics.loc[model, \"silhouette\"] = np.mean(metric)"
   ]
  },
  {
   "cell_type": "code",
   "execution_count": null,
   "id": "ec0092fb-01ce-4006-8c45-c7557da047c7",
   "metadata": {},
   "outputs": [],
   "source": [
    "uci_metrics"
   ]
  },
  {
   "cell_type": "code",
   "execution_count": null,
   "id": "df481551-0faa-4dd6-b5d4-b798b25fd041",
   "metadata": {},
   "outputs": [],
   "source": []
  }
 ],
 "metadata": {
  "kernelspec": {
   "display_name": ".env_ccvae",
   "language": "python",
   "name": ".env_ccvae"
  },
  "language_info": {
   "codemirror_mode": {
    "name": "ipython",
    "version": 3
   },
   "file_extension": ".py",
   "mimetype": "text/x-python",
   "name": "python",
   "nbconvert_exporter": "python",
   "pygments_lexer": "ipython3",
   "version": "3.7.8"
  }
 },
 "nbformat": 4,
 "nbformat_minor": 5
}
